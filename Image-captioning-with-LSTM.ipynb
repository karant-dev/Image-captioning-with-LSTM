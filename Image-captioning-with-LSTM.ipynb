{
 "cells": [
  {
   "cell_type": "markdown",
   "source": [
    "\n",
    "## Image Captioning with Conditioned LSTM Generators\n"
   ],
   "metadata": {
    "id": "woHanSq2yzyk"
   }
  },
  {
   "cell_type": "markdown",
   "source": [
    "We will build the following components: \r\n",
    "\r\n",
    "* Create matrices of image representations using an off-the-shelf image encoder.\r\n",
    "* Read and preprocess the image captions. \r\n",
    "* Write a generator function that returns one training instance (input/output sequence pair) at a time. \r\n",
    "* Train an LSTM language generator on the caption data.\r\n",
    "* Write a decoder function for the language generator. \r\n",
    "* Add the image input to write an LSTM caption generator. "
   ],
   "metadata": {
    "id": "zXefTNpJyzyl"
   }
  },
  {
   "cell_type": "markdown",
   "source": [
    "Access to the flickr8k data\n",
    "We will use the flickr8k data set, described here in more detail:\n",
    "\n",
    "M. Hodosh, P. Young and J. Hockenmaier (2013) \"Framing Image Description as a Ranking Task: Data, Models and Evaluation Metrics\", Journal of Artificial Intelligence Research, Volume 47, pages 853-899 http://www.jair.org/papers/paper3994.html when discussing our results"
   ],
   "metadata": {}
  },
  {
   "cell_type": "markdown",
   "source": [
    "### Getting Started \n",
    "\n",
    "First, run the following commands to make sure you have all required packages. "
   ],
   "metadata": {
    "id": "jJOPXFqayzym"
   }
  },
  {
   "cell_type": "code",
   "execution_count": 4,
   "source": [
    "import os\r\n",
    "from collections import defaultdict\r\n",
    "import numpy as np\r\n",
    "import PIL\r\n",
    "from matplotlib import pyplot as plt\r\n",
    "%matplotlib inline\r\n",
    "\r\n",
    "from keras import Sequential, Model\r\n",
    "from keras.layers import Embedding, LSTM, Dense, Input, Bidirectional, RepeatVector, Concatenate, Activation\r\n",
    "from keras.activations import softmax\r\n",
    "from keras.utils import to_categorical\r\n",
    "from keras.preprocessing.sequence import pad_sequences\r\n",
    "\r\n",
    "from keras.applications.inception_v3 import InceptionV3\r\n",
    "\r\n",
    "from keras.optimizers import Adam\r\n",
    "\r\n",
    "from google.colab import drive"
   ],
   "outputs": [
    {
     "output_type": "error",
     "ename": "ImportError",
     "evalue": "Keras requires TensorFlow 2.2 or higher. Install TensorFlow via `pip install tensorflow`",
     "traceback": [
      "\u001b[1;31m---------------------------------------------------------------------------\u001b[0m",
      "\u001b[1;31mModuleNotFoundError\u001b[0m                       Traceback (most recent call last)",
      "\u001b[1;32mc:\\python39\\lib\\site-packages\\keras\\__init__.py\u001b[0m in \u001b[0;36m<module>\u001b[1;34m\u001b[0m\n\u001b[0;32m      2\u001b[0m \u001b[1;32mtry\u001b[0m\u001b[1;33m:\u001b[0m\u001b[1;33m\u001b[0m\u001b[1;33m\u001b[0m\u001b[0m\n\u001b[1;32m----> 3\u001b[1;33m     \u001b[1;32mfrom\u001b[0m \u001b[0mtensorflow\u001b[0m\u001b[1;33m.\u001b[0m\u001b[0mkeras\u001b[0m\u001b[1;33m.\u001b[0m\u001b[0mlayers\u001b[0m\u001b[1;33m.\u001b[0m\u001b[0mexperimental\u001b[0m\u001b[1;33m.\u001b[0m\u001b[0mpreprocessing\u001b[0m \u001b[1;32mimport\u001b[0m \u001b[0mRandomRotation\u001b[0m\u001b[1;33m\u001b[0m\u001b[1;33m\u001b[0m\u001b[0m\n\u001b[0m\u001b[0;32m      4\u001b[0m \u001b[1;32mexcept\u001b[0m \u001b[0mImportError\u001b[0m\u001b[1;33m:\u001b[0m\u001b[1;33m\u001b[0m\u001b[1;33m\u001b[0m\u001b[0m\n",
      "\u001b[1;31mModuleNotFoundError\u001b[0m: No module named 'tensorflow'",
      "\nDuring handling of the above exception, another exception occurred:\n",
      "\u001b[1;31mImportError\u001b[0m                               Traceback (most recent call last)",
      "\u001b[1;32m<ipython-input-4-ddec767cf5cc>\u001b[0m in \u001b[0;36m<module>\u001b[1;34m\u001b[0m\n\u001b[0;32m      6\u001b[0m \u001b[0mget_ipython\u001b[0m\u001b[1;33m(\u001b[0m\u001b[1;33m)\u001b[0m\u001b[1;33m.\u001b[0m\u001b[0mrun_line_magic\u001b[0m\u001b[1;33m(\u001b[0m\u001b[1;34m'matplotlib'\u001b[0m\u001b[1;33m,\u001b[0m \u001b[1;34m'inline'\u001b[0m\u001b[1;33m)\u001b[0m\u001b[1;33m\u001b[0m\u001b[1;33m\u001b[0m\u001b[0m\n\u001b[0;32m      7\u001b[0m \u001b[1;33m\u001b[0m\u001b[0m\n\u001b[1;32m----> 8\u001b[1;33m \u001b[1;32mfrom\u001b[0m \u001b[0mkeras\u001b[0m \u001b[1;32mimport\u001b[0m \u001b[0mSequential\u001b[0m\u001b[1;33m,\u001b[0m \u001b[0mModel\u001b[0m\u001b[1;33m\u001b[0m\u001b[1;33m\u001b[0m\u001b[0m\n\u001b[0m\u001b[0;32m      9\u001b[0m \u001b[1;32mfrom\u001b[0m \u001b[0mkeras\u001b[0m\u001b[1;33m.\u001b[0m\u001b[0mlayers\u001b[0m \u001b[1;32mimport\u001b[0m \u001b[0mEmbedding\u001b[0m\u001b[1;33m,\u001b[0m \u001b[0mLSTM\u001b[0m\u001b[1;33m,\u001b[0m \u001b[0mDense\u001b[0m\u001b[1;33m,\u001b[0m \u001b[0mInput\u001b[0m\u001b[1;33m,\u001b[0m \u001b[0mBidirectional\u001b[0m\u001b[1;33m,\u001b[0m \u001b[0mRepeatVector\u001b[0m\u001b[1;33m,\u001b[0m \u001b[0mConcatenate\u001b[0m\u001b[1;33m,\u001b[0m \u001b[0mActivation\u001b[0m\u001b[1;33m\u001b[0m\u001b[1;33m\u001b[0m\u001b[0m\n\u001b[0;32m     10\u001b[0m \u001b[1;32mfrom\u001b[0m \u001b[0mkeras\u001b[0m\u001b[1;33m.\u001b[0m\u001b[0mactivations\u001b[0m \u001b[1;32mimport\u001b[0m \u001b[0msoftmax\u001b[0m\u001b[1;33m\u001b[0m\u001b[1;33m\u001b[0m\u001b[0m\n",
      "\u001b[1;32mc:\\python39\\lib\\site-packages\\keras\\__init__.py\u001b[0m in \u001b[0;36m<module>\u001b[1;34m\u001b[0m\n\u001b[0;32m      3\u001b[0m     \u001b[1;32mfrom\u001b[0m \u001b[0mtensorflow\u001b[0m\u001b[1;33m.\u001b[0m\u001b[0mkeras\u001b[0m\u001b[1;33m.\u001b[0m\u001b[0mlayers\u001b[0m\u001b[1;33m.\u001b[0m\u001b[0mexperimental\u001b[0m\u001b[1;33m.\u001b[0m\u001b[0mpreprocessing\u001b[0m \u001b[1;32mimport\u001b[0m \u001b[0mRandomRotation\u001b[0m\u001b[1;33m\u001b[0m\u001b[1;33m\u001b[0m\u001b[0m\n\u001b[0;32m      4\u001b[0m \u001b[1;32mexcept\u001b[0m \u001b[0mImportError\u001b[0m\u001b[1;33m:\u001b[0m\u001b[1;33m\u001b[0m\u001b[1;33m\u001b[0m\u001b[0m\n\u001b[1;32m----> 5\u001b[1;33m     raise ImportError(\n\u001b[0m\u001b[0;32m      6\u001b[0m         \u001b[1;34m'Keras requires TensorFlow 2.2 or higher. '\u001b[0m\u001b[1;33m\u001b[0m\u001b[1;33m\u001b[0m\u001b[0m\n\u001b[0;32m      7\u001b[0m         'Install TensorFlow via `pip install tensorflow`')\n",
      "\u001b[1;31mImportError\u001b[0m: Keras requires TensorFlow 2.2 or higher. Install TensorFlow via `pip install tensorflow`"
     ]
    }
   ],
   "metadata": {
    "id": "dF4Yc__fyzym"
   }
  },
  {
   "cell_type": "markdown",
   "source": [
    "### Access to the flickr8k data\n",
    "\n",
    "We will use the flickr8k data set, described here in more detail: \n",
    "\n",
    "> M. Hodosh, P. Young and J. Hockenmaier (2013) \"Framing Image Description as a Ranking Task: Data, Models and Evaluation Metrics\", Journal of Artificial Intelligence Research, Volume 47, pages 853-899 http://www.jair.org/papers/paper3994.html when discussing our results\n",
    "\n",
    "You need to download the dataset and then upload it again to your own drive. Please assign the name you chose for this folder to the variable `my_data_dir` in the next cell.\n"
   ],
   "metadata": {
    "id": "055vtsSRyzyq"
   }
  },
  {
   "cell_type": "code",
   "execution_count": null,
   "source": [
    "#this is where you put the name of your data folder.\r\n",
    "#Please make sure it's correct because it'll be used in many places later.\r\n",
    "my_data_dir=\"hw2_data\""
   ],
   "outputs": [],
   "metadata": {
    "id": "7Tc-JWYQyzyq"
   }
  },
  {
   "cell_type": "markdown",
   "source": [
    "### Mounting your GDrive so you can access the files from Colab"
   ],
   "metadata": {
    "id": "QFnMt3y-yzyt"
   }
  },
  {
   "cell_type": "code",
   "execution_count": null,
   "source": [
    "#running this command will generate a message that will ask you to click on a link where you'll obtain your GDrive auth code.\r\n",
    "#copy paste that code in the text box that will appear below\r\n",
    "drive.mount('/content/gdrive')"
   ],
   "outputs": [],
   "metadata": {
    "id": "xjQLiMcryzyu"
   }
  },
  {
   "cell_type": "markdown",
   "source": [
    "Please look at the 'Files' tab on the left side and make sure you can see the 'hw5_data' folder that you have in your GDrive."
   ],
   "metadata": {
    "id": "VfNa23uFyzyw"
   }
  },
  {
   "cell_type": "markdown",
   "source": [
    "## Part I: Image Encodings (2.5 pts)\n",
    "\n",
    "> Indented block\n",
    "\n"
   ],
   "metadata": {
    "id": "naveL-wMyzyw"
   }
  },
  {
   "cell_type": "markdown",
   "source": [
    "The files Flickr_8k.trainImages.txt Flickr_8k.devImages.txt Flickr_8k.testImages.txt, contain a list of training, development, and test images, respectively. Let's load these lists. "
   ],
   "metadata": {
    "id": "-L5Y7ZGZyzyx"
   }
  },
  {
   "cell_type": "code",
   "execution_count": null,
   "source": [
    "def load_image_list(filename):\r\n",
    "    with open(filename,'r') as image_list_f: \r\n",
    "        return [line.strip() for line in image_list_f]    "
   ],
   "outputs": [],
   "metadata": {
    "id": "G8O6bbYryzyx"
   }
  },
  {
   "cell_type": "code",
   "execution_count": null,
   "source": [
    "train_list = load_image_list('/content/gdrive/My Drive/'+my_data_dir+'/Flickr_8k.trainImages.txt')\r\n",
    "dev_list = load_image_list('/content/gdrive/My Drive/'+my_data_dir+'/Flickr_8k.devImages.txt')\r\n",
    "test_list = load_image_list('/content/gdrive/My Drive/'+my_data_dir+'/Flickr_8k.testImages.txt')"
   ],
   "outputs": [],
   "metadata": {
    "id": "M6Ex_oDUyzy0"
   }
  },
  {
   "cell_type": "markdown",
   "source": [
    "Let's see how many images there are"
   ],
   "metadata": {
    "id": "UgyLSpVXyzy3"
   }
  },
  {
   "cell_type": "code",
   "execution_count": null,
   "source": [
    "len(train_list), len(dev_list), len(test_list)"
   ],
   "outputs": [],
   "metadata": {
    "id": "pVyOcnOFyzy3"
   }
  },
  {
   "cell_type": "markdown",
   "source": [
    "Each entry is an image filename."
   ],
   "metadata": {
    "collapsed": true,
    "id": "Gt9IBS5Wyzy5"
   }
  },
  {
   "cell_type": "code",
   "execution_count": null,
   "source": [
    "dev_list[20]"
   ],
   "outputs": [],
   "metadata": {
    "id": "pAA59huxyzy6"
   }
  },
  {
   "cell_type": "markdown",
   "source": [
    "The images are located in a subdirectory.  "
   ],
   "metadata": {
    "id": "_ZDpaCD4yzy8"
   }
  },
  {
   "cell_type": "code",
   "execution_count": null,
   "source": [
    "IMG_PATH = \"Flickr8k_Dataset\""
   ],
   "outputs": [],
   "metadata": {
    "id": "KTnqp4T8yzy8"
   }
  },
  {
   "cell_type": "markdown",
   "source": [
    "We can use PIL to open the image and matplotlib to display it. "
   ],
   "metadata": {
    "id": "8GGW66PLyzy-"
   }
  },
  {
   "cell_type": "code",
   "execution_count": null,
   "source": [
    "image = PIL.Image.open(os.path.join(IMG_PATH, dev_list[20]))\r\n",
    "image"
   ],
   "outputs": [],
   "metadata": {
    "id": "Ru9vtBifyzy_"
   }
  },
  {
   "cell_type": "markdown",
   "source": [
    "if you can't see the image, try"
   ],
   "metadata": {
    "id": "OXpSlMqQyzzB"
   }
  },
  {
   "cell_type": "code",
   "execution_count": null,
   "source": [
    "plt.imshow(image)"
   ],
   "outputs": [],
   "metadata": {
    "id": "VWeVxKyjyzzB"
   }
  },
  {
   "cell_type": "markdown",
   "source": [
    "We are going to use an off-the-shelf pre-trained image encoder, the Inception V3 network. The model is a version of a convolution neural network for object detection. Here is more detail about this model (not required for this project): \n",
    "\n",
    "> Szegedy, C., Vanhoucke, V., Ioffe, S., Shlens, J., & Wojna, Z. (2016). Rethinking the inception architecture for computer vision. In Proceedings of the IEEE conference on computer vision and pattern recognition (pp. 2818-2826).\n",
    "> https://www.cv-foundation.org/openaccess/content_cvpr_2016/html/Szegedy_Rethinking_the_Inception_CVPR_2016_paper.html\n",
    "\n",
    "The model requires that input images are presented as 299x299 pixels, with 3 color channels (RGB). The individual RGB values need to range between 0 and 1.0. The flickr images don't fit. "
   ],
   "metadata": {
    "id": "TSG0HXd8yzzE"
   }
  },
  {
   "cell_type": "code",
   "execution_count": null,
   "source": [
    "np.asarray(image).shape"
   ],
   "outputs": [],
   "metadata": {
    "id": "YJfoSW4ayzzE"
   }
  },
  {
   "cell_type": "markdown",
   "source": [
    "The values range from 0 to 255. "
   ],
   "metadata": {
    "collapsed": true,
    "id": "Chy50JhkyzzH"
   }
  },
  {
   "cell_type": "code",
   "execution_count": null,
   "source": [
    "np.asarray(image)"
   ],
   "outputs": [],
   "metadata": {
    "id": "K37OXUnGyzzH"
   }
  },
  {
   "cell_type": "markdown",
   "source": [
    "We can use PIL to resize the image and then divide every value by 255. "
   ],
   "metadata": {
    "id": "6AuKQ7i7yzzK"
   }
  },
  {
   "cell_type": "code",
   "execution_count": null,
   "source": [
    "new_image = np.asarray(image.resize((299,299))) / 255.0\r\n",
    "plt.imshow(new_image)"
   ],
   "outputs": [],
   "metadata": {
    "id": "B2zdaCJdyzzK"
   }
  },
  {
   "cell_type": "code",
   "execution_count": null,
   "source": [
    "new_image.shape"
   ],
   "outputs": [],
   "metadata": {
    "id": "jJqPEHinyzzN"
   }
  },
  {
   "cell_type": "markdown",
   "source": [
    "Let's put this all in a function for convenience. "
   ],
   "metadata": {
    "id": "w5RrvKdsyzzP"
   }
  },
  {
   "cell_type": "code",
   "execution_count": null,
   "source": [
    "def get_image(image_name):\r\n",
    "    image = PIL.Image.open(os.path.join(IMG_PATH, image_name))\r\n",
    "    return np.asarray(image.resize((299,299))) / 255.0                     "
   ],
   "outputs": [],
   "metadata": {
    "id": "_JkSdCqtyzzP"
   }
  },
  {
   "cell_type": "code",
   "execution_count": null,
   "source": [
    "plt.imshow(get_image(dev_list[25]))"
   ],
   "outputs": [],
   "metadata": {
    "id": "xrShVTOHyzzR"
   }
  },
  {
   "cell_type": "markdown",
   "source": [
    "Next, we load the pre-trained Inception model. "
   ],
   "metadata": {
    "id": "B8xadO3ryzzT"
   }
  },
  {
   "cell_type": "code",
   "execution_count": null,
   "source": [
    "img_model = InceptionV3(weights='imagenet') # This will download the weight files for you and might take a while."
   ],
   "outputs": [],
   "metadata": {
    "id": "Fg7rrompyzzU"
   }
  },
  {
   "cell_type": "code",
   "execution_count": null,
   "source": [
    "img_model.summary() # this is quite a complex model. "
   ],
   "outputs": [],
   "metadata": {
    "id": "xUi_OhPXyzzW"
   }
  },
  {
   "cell_type": "markdown",
   "source": [
    "This is a prediction model,so the output is typically a softmax-activated vector representing 1000 possible object types. Because we are interested in an encoded representation of the image we are just going to use the second-to-last layer as a source of image encodings. Each image will be encoded as a vector of size 2048. \n",
    "\n",
    "We will use the following hack: hook up the input into a new Keras model and use the penultimate layer of the existing model as output."
   ],
   "metadata": {
    "id": "n3eerkQPyzzY"
   }
  },
  {
   "cell_type": "code",
   "execution_count": null,
   "source": [
    "new_input = img_model.input\r\n",
    "new_output = img_model.layers[-2].output\r\n",
    "img_encoder = Model(new_input, new_output) # This is the final Keras image encoder model we will use."
   ],
   "outputs": [],
   "metadata": {
    "id": "Zot8wUjTyzzY"
   }
  },
  {
   "cell_type": "markdown",
   "source": [
    "Let's try the encoder. "
   ],
   "metadata": {
    "collapsed": true,
    "id": "GgqK474ayzzd"
   }
  },
  {
   "cell_type": "code",
   "execution_count": null,
   "source": [
    "encoded_image = img_encoder.predict(np.array([new_image]))"
   ],
   "outputs": [],
   "metadata": {
    "id": "UZ4M9eJCyzzd"
   }
  },
  {
   "cell_type": "code",
   "execution_count": null,
   "source": [
    "encoded_image"
   ],
   "outputs": [],
   "metadata": {
    "id": "HWJjp5Jnyzzg"
   }
  },
  {
   "cell_type": "markdown",
   "source": [
    "**TODO:** We will need to create encodings for all images and store them in one big matrix (one for each dataset, train, dev, test).\n",
    "We can then save the matrices so that we never have to touch the bulky image data again. \n",
    "\n",
    "To save memory (but slow the process down a little bit) we will read in the images lazily using a generator. We will encounter generators again later when we train the LSTM. If you are unfamiliar with generators, take a look at this page: https://wiki.python.org/moin/Generators\n",
    "\n",
    "Write the following generator function, which should return one image at a time. \n",
    "`img_list` is a list of image file names (i.e. the train, dev, or test set). The return value should be a numpy array of shape (1,299,299,3)."
   ],
   "metadata": {
    "id": "AKpj_Rkjyzzi"
   }
  },
  {
   "cell_type": "code",
   "execution_count": null,
   "source": [
    "def img_generator(img_list):\r\n",
    "    #...\r\n",
    "    yield #..."
   ],
   "outputs": [],
   "metadata": {
    "id": "QnmbjTloyzzj"
   }
  },
  {
   "cell_type": "markdown",
   "source": [
    "Now we can encode all images (this takes a few minutes)."
   ],
   "metadata": {
    "id": "Kwjtm_ktyzzl"
   }
  },
  {
   "cell_type": "code",
   "execution_count": null,
   "source": [
    "enc_train = img_encoder.predict_generator(img_generator(train_list), steps=len(train_list), verbose=1)"
   ],
   "outputs": [],
   "metadata": {
    "id": "RtwG1ku1yzzl"
   }
  },
  {
   "cell_type": "code",
   "execution_count": null,
   "source": [
    "enc_train[11]"
   ],
   "outputs": [],
   "metadata": {
    "id": "836wtjMdyzzn"
   }
  },
  {
   "cell_type": "code",
   "execution_count": null,
   "source": [
    "enc_dev = img_encoder.predict_generator(img_generator(dev_list), steps=len(dev_list), verbose=1)"
   ],
   "outputs": [],
   "metadata": {
    "id": "a4EoysJpyzzp"
   }
  },
  {
   "cell_type": "code",
   "execution_count": null,
   "source": [
    "enc_test = img_encoder.predict_generator(img_generator(test_list), steps=len(test_list), verbose=1)"
   ],
   "outputs": [],
   "metadata": {
    "id": "uT8QkiA3yzzr"
   }
  },
  {
   "cell_type": "markdown",
   "source": [
    "It's a good idea to save the resulting matrices, so we do not have to run the encoder again. "
   ],
   "metadata": {
    "id": "YMhnfuvGyzzt"
   }
  },
  {
   "cell_type": "code",
   "execution_count": null,
   "source": [
    "np.save(\"gdrive/My Drive/\"+my_data_dir+\"/outputs/encoded_images_train.npy\", enc_train)\r\n",
    "np.save(\"gdrive/My Drive/\"+my_data_dir+\"/outputs/encoded_images_dev.npy\", enc_dev)\r\n",
    "np.save(\"gdrive/My Drive/\"+my_data_dir+\"/outputs/encoded_images_test.npy\", enc_test)"
   ],
   "outputs": [],
   "metadata": {
    "id": "XswtYE0iyzzu"
   }
  },
  {
   "cell_type": "markdown",
   "source": [
    "## Part II Text (Caption) Data Preparation (1.25 pts)\n",
    "\n",
    "Next, we need to load the image captions and generate training data for the generator model."
   ],
   "metadata": {
    "id": "ANBPxk5vyzzv"
   }
  },
  {
   "cell_type": "markdown",
   "source": [
    "### Reading image descriptions"
   ],
   "metadata": {
    "id": "7VIi4th6yzzw"
   }
  },
  {
   "cell_type": "markdown",
   "source": [
    "**TODO**: Write the following function that reads the image descriptions from the file `filename` and returns a dictionary in the following format. Take a look at the file `Flickr8k.token.txt` for the format of the input file. \n",
    "The keys of the dictionary should be image filenames. Each value should be a list of 5 captions. Each caption should be a list of tokens.  \n",
    "\n",
    "The captions in the file are already tokenized, so you can just split them at white spaces. You should convert each token to lower case. You should then pad each caption with a START token on the left and an END token on the right. "
   ],
   "metadata": {
    "id": "fJlgSMvCyzzw"
   }
  },
  {
   "cell_type": "code",
   "execution_count": null,
   "source": [
    "def read_image_descriptions(filename):    \r\n",
    "    image_descriptions = defaultdict(list)    \r\n",
    "    # ...\r\n",
    "    return image_descriptions"
   ],
   "outputs": [],
   "metadata": {
    "id": "R3Ts-ScHyzzw"
   }
  },
  {
   "cell_type": "code",
   "execution_count": null,
   "source": [
    "descriptions = read_image_descriptions(\"gdrive/My Drive/\"+my_data_dir+\"/Flickr8k.token.txt\")"
   ],
   "outputs": [
    {
     "output_type": "error",
     "ename": "NameError",
     "evalue": "ignored",
     "traceback": [
      "\u001b[0;31m---------------------------------------------------------------------------\u001b[0m",
      "\u001b[0;31mNameError\u001b[0m                                 Traceback (most recent call last)",
      "\u001b[0;32m<ipython-input-2-6388c28017d0>\u001b[0m in \u001b[0;36m<module>\u001b[0;34m()\u001b[0m\n\u001b[0;32m----> 1\u001b[0;31m \u001b[0mdescriptions\u001b[0m \u001b[0;34m=\u001b[0m \u001b[0mread_image_descriptions\u001b[0m\u001b[0;34m(\u001b[0m\u001b[0;34m\"gdrive/My Drive/\"\u001b[0m\u001b[0;34m+\u001b[0m\u001b[0mmy_data_dir\u001b[0m\u001b[0;34m+\u001b[0m\u001b[0;34m\"/Flickr8k.token.txt\"\u001b[0m\u001b[0;34m)\u001b[0m\u001b[0;34m\u001b[0m\u001b[0;34m\u001b[0m\u001b[0m\n\u001b[0m",
      "\u001b[0;31mNameError\u001b[0m: name 'my_data_dir' is not defined"
     ]
    }
   ],
   "metadata": {
    "colab": {
     "base_uri": "https://localhost:8080/",
     "height": 164
    },
    "id": "k1Zr32pZyzzy",
    "outputId": "53106d05-f486-470d-8ed6-59fe8e0c9b34",
    "scrolled": true
   }
  },
  {
   "cell_type": "code",
   "execution_count": null,
   "source": [
    "print(descriptions[dev_list[0]])"
   ],
   "outputs": [],
   "metadata": {
    "id": "d-VAGMGlyzz0"
   }
  },
  {
   "cell_type": "markdown",
   "source": [
    "Running the previous cell should print:     \n",
    "`[['<START>', 'the', 'boy', 'laying', 'face', 'down', 'on', 'a', 'skateboard', 'is', 'being', 'pushed', 'along', 'the', 'ground', 'by', 'another', 'boy', '.', '<END>'], ['<START>', 'two', 'girls', 'play', 'on', 'a', 'skateboard', 'in', 'a', 'courtyard', '.', '<END>'], ['<START>', 'two', 'people', 'play', 'on', 'a', 'long', 'skateboard', '.', '<END>'], ['<START>', 'two', 'small', 'children', 'in', 'red', 'shirts', 'playing', 'on', 'a', 'skateboard', '.', '<END>'], ['<START>', 'two', 'young', 'children', 'on', 'a', 'skateboard', 'going', 'across', 'a', 'sidewalk', '<END>']]\n",
    "`    "
   ],
   "metadata": {
    "id": "PpKawT80yzz3"
   }
  },
  {
   "cell_type": "markdown",
   "source": [
    "### Creating Word Indices"
   ],
   "metadata": {
    "id": "1qVKEyB4yzz3"
   }
  },
  {
   "cell_type": "markdown",
   "source": [
    "Next, we need to create a lookup table from the **training** data mapping words to integer indices, so we can encode input \n",
    "and output sequences using numeric representations. **TODO** create the dictionaries id_to_word and word_to_id, which should map tokens to numeric ids and numeric ids to tokens.  \n",
    "Hint: Create a set of tokens in the training data first, then convert the set into a list and sort it. This way if you run the code multiple times, you will always get the same dictionaries. "
   ],
   "metadata": {
    "id": "WPoEj0yzyzz3"
   }
  },
  {
   "cell_type": "code",
   "execution_count": null,
   "source": [
    "id_to_word = #..."
   ],
   "outputs": [],
   "metadata": {
    "id": "QHiFzrQvyzz4"
   }
  },
  {
   "cell_type": "code",
   "execution_count": null,
   "source": [
    "word_to_id = #..."
   ],
   "outputs": [],
   "metadata": {
    "id": "Bhr34xmVyzz6"
   }
  },
  {
   "cell_type": "code",
   "execution_count": null,
   "source": [
    "word_to_id['dog'] # should print an integer"
   ],
   "outputs": [],
   "metadata": {
    "id": "NmZ8qOn1yzz7"
   }
  },
  {
   "cell_type": "code",
   "execution_count": null,
   "source": [
    "id_to_word[1985] # should print a token"
   ],
   "outputs": [],
   "metadata": {
    "id": "UtUzlpsgyzz9"
   }
  },
  {
   "cell_type": "markdown",
   "source": [
    "Note that we do not need an UNK word token because we are generating. The generated text will only contain tokens seen at training time.  "
   ],
   "metadata": {
    "id": "xyMSuzPLyzz_"
   }
  },
  {
   "cell_type": "markdown",
   "source": [
    "## Part III Basic Decoder Model (2.5 pts)\n",
    "\n",
    "For now, we will just train a model for text generation without conditioning the generator on the image input. \n",
    "\n",
    "There are different ways to do this and our approach will be slightly different from the generator discussed in class. "
   ],
   "metadata": {
    "id": "n4F_P878yz0A"
   }
  },
  {
   "cell_type": "markdown",
   "source": [
    "The core idea here is that the Keras recurrent layers (including LSTM) create an \"unrolled\" RNN. Each time-step is represented as a different unit, but the weights for these units are shared. We are going to use the constant MAX_LEN to refer to the maximum length of a sequence, which turns out to be 40 words in this data set (including START and END)."
   ],
   "metadata": {
    "id": "XAiT2jp2yz0A"
   }
  },
  {
   "cell_type": "code",
   "execution_count": null,
   "source": [
    "max(len(description) for image_id in train_list for description in descriptions[image_id])"
   ],
   "outputs": [],
   "metadata": {
    "id": "i6ORZjR3yz0B"
   }
  },
  {
   "cell_type": "markdown",
   "source": [
    "In class, we discussed LSTM generators as transducers that map each word in the input sequence to the next word. \n",
    "<img src=\"http://www.cs.columbia.edu/~bauer/4705/lstm1.png\" width=\"480px\">"
   ],
   "metadata": {
    "id": "XN8zkt8Kyz0D"
   }
  },
  {
   "cell_type": "markdown",
   "source": [
    "Instead, we will use the model to predict one word at a time, given a partial sequence. For example, given the sequence [\"START\",\"a\"], the model might predict \"dog\" as the most likely word. We are basically using the LSTM to encode the input sequence up to this point. \n",
    "<img src=\"http://www.cs.columbia.edu/~bauer/4705/lstm2.png\" width=\"480px\">\n"
   ],
   "metadata": {
    "id": "ywnwGiK1yz0D"
   }
  },
  {
   "cell_type": "markdown",
   "source": [
    "To train the model, we will convert each description into a set of input output pairs as follows. For example, consider the sequence \n",
    "\n",
    "`['<START>', 'a', 'black', 'dog', '.', '<END>']`\n",
    "\n",
    "We would train the model using the following input/output pairs \n",
    "\n",
    "| i | input                        | output |\n",
    "|---|------------------------------|--------|\n",
    "| 0 |[`START`]                     | `a`    |  \n",
    "| 1 |[`START`,`a`]                 | `black`|\n",
    "| 2 |[`START`,`a`, `black`]        | `dog`  |\n",
    "| 3 |[`START`,`a`, `black`, `dog`] | `END`  |\n",
    "\n"
   ],
   "metadata": {
    "id": "tn7hFIEbyz0D"
   }
  },
  {
   "cell_type": "markdown",
   "source": [
    "Here is the model in Keras Keras. Note that we are using a Bidirectional LSTM, which encodes the sequence from both directions and then predicts the output. \n",
    "Also note the `return_sequence=False` parameter, which causes the LSTM to return a single output instead of one output per state. \n",
    "\n",
    "Note also that we use an embedding layer for the input words. The weights are shared between all units of the unrolled LSTM. We will train these embeddings with the model. "
   ],
   "metadata": {
    "id": "eDHK8y1Hyz0E"
   }
  },
  {
   "cell_type": "code",
   "execution_count": null,
   "source": [
    "MAX_LEN = 40\r\n",
    "EMBEDDING_DIM=300\r\n",
    "vocab_size = len(word_to_id)\r\n",
    "\r\n",
    "# Text input\r\n",
    "text_input = Input(shape=(MAX_LEN,))\r\n",
    "embedding = Embedding(vocab_size, EMBEDDING_DIM, input_length=MAX_LEN)(text_input)\r\n",
    "x = Bidirectional(LSTM(512, return_sequences=False))(embedding)\r\n",
    "pred = Dense(vocab_size, activation='softmax')(x)\r\n",
    "model = Model(inputs=[text_input],outputs=pred)\r\n",
    "model.compile(loss='categorical_crossentropy', optimizer='RMSprop', metrics=['accuracy'])\r\n",
    "\r\n",
    "model.summary()"
   ],
   "outputs": [],
   "metadata": {
    "id": "u07s-Msdyz0F"
   }
  },
  {
   "cell_type": "markdown",
   "source": [
    "The model input is a numpy ndarray (a tensor) of size `(batch_size, MAX_LEN)`. Each row is a vector of size MAX_LEN in which each entry is an integer representing a word (according to the `word_to_id` dictionary). If the input sequence is shorter than MAX_LEN, the remaining entries should be padded with 0. \n",
    "\n",
    "For each input example, the model returns a softmax activated vector (a probability distribution) over possible output words. The model output is a numpy ndarray of size `(batch_size, vocab_size)`. vocab_size is the number of vocabulary words. "
   ],
   "metadata": {
    "id": "I5SJEjpmyz0H"
   }
  },
  {
   "cell_type": "markdown",
   "source": [
    "### Creating a Generator for the Training Data"
   ],
   "metadata": {
    "id": "k7vZOvuHyz0H"
   }
  },
  {
   "cell_type": "markdown",
   "source": [
    "**TODO**: \n",
    "\n",
    "We could simply create one large numpy ndarray for all the training data. Because we have a lot of training instances (each training sentence will produce up to MAX_LEN input/output pairs, one for each word), it is better to produce the training examples *lazily*, i.e. in batches using a generator (recall the image generator in part I). \n",
    "\n",
    "Write the function `text_training_generator` below, that takes as a paramater the batch_size and returns an `(input, output)` pair. `input` is a `(batch_size, MAX_LEN)` ndarray of partial input sequences, `output` contains the next words predicted for each partial input sequence, encoded as a `(batch_size, vocab_size)` ndarray.\n",
    "\n",
    "Each time the next() function is called on the generator instance, it should return a new batch of the *training* data. You can use `train_list` as a list of training images. A batch may contain input/output examples extracted from different descriptions or even from different images. \n",
    "\n",
    "You can just refer back to the variables you have defined above, including `descriptions`, `train_list`, `vocab_size`, etc. \n"
   ],
   "metadata": {
    "id": "PAPHFdNKyz0H"
   }
  },
  {
   "cell_type": "markdown",
   "source": [
    "Hint: To prevent issues with having to reset the generator for each epoch and to make sure the generator can always return exactly `batch_size` input/output pairs in each step, wrap your code into a `while True:` loop. This way, when you reach the end of the training data, you will just continue adding training data from the beginning into the batch. "
   ],
   "metadata": {
    "id": "8rokd_w5yz0I"
   }
  },
  {
   "cell_type": "code",
   "execution_count": null,
   "source": [
    "def text_training_generator(batch_size=128):\r\n",
    "    pass\r\n",
    "    # ... "
   ],
   "outputs": [],
   "metadata": {
    "id": "XBYIwHeWyz0I"
   }
  },
  {
   "cell_type": "markdown",
   "source": [
    "### Training the Model"
   ],
   "metadata": {
    "id": "bZ8sC4Ulyz0K"
   }
  },
  {
   "cell_type": "markdown",
   "source": [
    "We will use the `fit_generator` method of the model to train the model. fit_generator needs to know how many iterator steps there are per epoch.\n",
    "\n",
    "Because there are len(train_list) training samples with up to `MAX_LEN` words, an upper bound for the number of total training instances is `len(train_list)*MAX_LEN`. Because the generator returns these in batches, the number of steps is len(train_list) * MAX_LEN // batch_size"
   ],
   "metadata": {
    "id": "3xt2d1njyz0K"
   }
  },
  {
   "cell_type": "code",
   "execution_count": null,
   "source": [
    "batch_size = 128\r\n",
    "generator = text_training_generator(batch_size)\r\n",
    "steps = len(train_list) * MAX_LEN // batch_size "
   ],
   "outputs": [],
   "metadata": {
    "id": "NQ3Aot5eyz0L"
   }
  },
  {
   "cell_type": "code",
   "execution_count": null,
   "source": [
    "model.fit_generator(generator, steps_per_epoch=steps, verbose=True, epochs=10)"
   ],
   "outputs": [],
   "metadata": {
    "id": "EaAmnbaYyz0M"
   }
  },
  {
   "cell_type": "markdown",
   "source": [
    "Continue to train the model until you reach an accuracy of at least 40%. "
   ],
   "metadata": {
    "id": "qKEI06aiyz0O"
   }
  },
  {
   "cell_type": "markdown",
   "source": [
    "### Greedy Decoder\n",
    "\n",
    "**TODO** Next, you will write a decoder. The decoder should start with the sequence `[\"<START>\"]`, use the model to predict the most likely word, append the word to the sequence and then continue until `\"<END>\"` is predicted or the sequence reaches `MAX_LEN` words. "
   ],
   "metadata": {
    "id": "EuQZreVtyz0O"
   }
  },
  {
   "cell_type": "code",
   "execution_count": null,
   "source": [
    "def decoder():\r\n",
    "    # ...\r\n",
    "    return []"
   ],
   "outputs": [],
   "metadata": {
    "id": "-uJkjhSuyz0P"
   }
  },
  {
   "cell_type": "code",
   "execution_count": null,
   "source": [
    "print(decoder())"
   ],
   "outputs": [],
   "metadata": {
    "id": "NUz0Bw5Ayz0Q"
   }
  },
  {
   "cell_type": "markdown",
   "source": [
    "This simple decoder will of course always predict the same sequence (and it's not necessarily a good one). \n",
    "\n",
    "Modify the decoder as follows. Instead of choosing the most likely word in each step, sample the next word from the distribution (i.e. the softmax activated output) returned by the model. Take a look at the [np.random.multinomial](https://docs.scipy.org/doc/numpy/reference/generated/numpy.random.multinomial.html) function to do this. "
   ],
   "metadata": {
    "id": "uSgbYV5xyz0S"
   }
  },
  {
   "cell_type": "code",
   "execution_count": 1,
   "source": [
    "def sample_decoder():\r\n",
    "    #...\r\n",
    "    return []"
   ],
   "outputs": [],
   "metadata": {
    "executionInfo": {
     "elapsed": 659,
     "status": "ok",
     "timestamp": 1613163307639,
     "user": {
      "displayName": "X Z",
      "photoUrl": "https://lh3.googleusercontent.com/a-/AOh14GhgPcmc5CMqRM-ALaQHpj45bT0lVyVAY8W0AJTWN3E=s64",
      "userId": "02714905947076250420"
     },
     "user_tz": 360
    },
    "id": "nA8Hp2ENyz0S"
   }
  },
  {
   "cell_type": "markdown",
   "source": [
    "You should now be able to see some interesting output that looks a lot like flickr8k image captions -- only that the captions are generated randomly without any image input. "
   ],
   "metadata": {
    "id": "XRfKeorWyz0T"
   }
  },
  {
   "cell_type": "code",
   "execution_count": null,
   "source": [
    "for i in range(10): \r\n",
    "    print(sample_decoder())"
   ],
   "outputs": [],
   "metadata": {
    "id": "9rHCDnYIyz0T"
   }
  },
  {
   "cell_type": "markdown",
   "source": [
    "## Part III - Conditioning on the Image (3.75 pts)"
   ],
   "metadata": {
    "id": "Vcgd5jZmyz0W"
   }
  },
  {
   "cell_type": "markdown",
   "source": [
    "We will now extend the model to condition the next word not only on the partial sequence, but also on the encoded image. \n",
    "\n",
    "We will project the 2048-dimensional image encoding to a 300-dimensional hidden layer. \n",
    "We then concatenate this vector with each embedded input word, before applying the LSTM.\n",
    "\n",
    "Here is what the Keras model looks like: "
   ],
   "metadata": {
    "id": "WJlHiDzjyz0W"
   }
  },
  {
   "cell_type": "code",
   "execution_count": null,
   "source": [
    "MAX_LEN = 40\r\n",
    "EMBEDDING_DIM=300\r\n",
    "IMAGE_ENC_DIM=300\r\n",
    "\r\n",
    "# Image input\r\n",
    "img_input = Input(shape=(2048,))\r\n",
    "img_enc = Dense(300, activation=\"relu\") (img_input)\r\n",
    "images = RepeatVector(MAX_LEN)(img_enc)\r\n",
    "\r\n",
    "# Text input\r\n",
    "text_input = Input(shape=(MAX_LEN,))\r\n",
    "embedding = Embedding(vocab_size, EMBEDDING_DIM, input_length=MAX_LEN)(text_input)\r\n",
    "x = Concatenate()([images,embedding])\r\n",
    "y = Bidirectional(LSTM(256, return_sequences=False))(x) \r\n",
    "pred = Dense(vocab_size, activation='softmax')(y)\r\n",
    "model = Model(inputs=[img_input,text_input],outputs=pred)\r\n",
    "model.compile(loss='categorical_crossentropy', optimizer=\"RMSProp\", metrics=['accuracy'])\r\n",
    "\r\n",
    "model.summary()"
   ],
   "outputs": [],
   "metadata": {
    "id": "HtlAiwcLyz0W"
   }
  },
  {
   "cell_type": "markdown",
   "source": [
    "The model now takes two inputs: \n",
    "    \n",
    "   1. a `(batch_size, 2048)` ndarray of image encodings. \n",
    "   2. a `(batch_size, MAX_LEN)` ndarray of partial input sequences. \n",
    "    \n",
    "And one output as before: a `(batch_size, vocab_size)` ndarray of predicted word distributions.   "
   ],
   "metadata": {
    "id": "bMqplI6myz0Y"
   }
  },
  {
   "cell_type": "markdown",
   "source": [
    "**TODO**: Modify the training data generator to include the image with each input/output pair. \n",
    "Your generator needs to return an object of the following format: `([image_inputs, text_inputs], next_words)`. Where each element is an ndarray of the type described above.  \n",
    "\n",
    "You need to find the image encoding that belongs to each image. You can use the fact that the index of the image in `train_list` is the same as the index in enc_train and enc_dev. \n",
    "\n",
    "If you have previously saved the image encodings, you can load them from disk: "
   ],
   "metadata": {
    "id": "FwrAi94-yz0Y"
   }
  },
  {
   "cell_type": "code",
   "execution_count": null,
   "source": [
    "enc_train = np.load(\"gdrive/My Drive/\"+my_data_dir+\"/outputs/encoded_images_train.npy\")\r\n",
    "enc_dev = np.load(\"gdrive/My Drive/\"+my_data_dir+\"/outputs/encoded_images_dev.npy\")"
   ],
   "outputs": [],
   "metadata": {
    "id": "G_MNFrMHyz0Y"
   }
  },
  {
   "cell_type": "code",
   "execution_count": null,
   "source": [
    "def training_generator(batch_size=128):\r\n",
    "    #...\r\n",
    "    yield #..."
   ],
   "outputs": [],
   "metadata": {
    "id": "4c8BSbgHyz0b"
   }
  },
  {
   "cell_type": "markdown",
   "source": [
    "You should now be able to train the model as before: "
   ],
   "metadata": {
    "id": "_5O2kgaHyz0d"
   }
  },
  {
   "cell_type": "code",
   "execution_count": null,
   "source": [
    "batch_size = 128\r\n",
    "generator = training_generator(batch_size)\r\n",
    "steps = len(train_list) * MAX_LEN // batch_size "
   ],
   "outputs": [],
   "metadata": {
    "id": "LaRlqdH-yz0d"
   }
  },
  {
   "cell_type": "code",
   "execution_count": null,
   "source": [
    "model.fit_generator(generator, steps_per_epoch=steps, verbose=True, epochs=20)"
   ],
   "outputs": [],
   "metadata": {
    "id": "GuGRMcQSyz0f"
   }
  },
  {
   "cell_type": "markdown",
   "source": [
    "Again, continue to train the model until you hit an accuracy of about 40%. This may take a while. I strongly encourage you to experiment with cloud GPUs using the GCP voucher for the class. "
   ],
   "metadata": {
    "id": "UNmxaVX7yz0g"
   }
  },
  {
   "cell_type": "markdown",
   "source": [
    "You can save your model weights to disk and continue at a later time. "
   ],
   "metadata": {
    "id": "GnnUcIuRyz0g"
   }
  },
  {
   "cell_type": "code",
   "execution_count": null,
   "source": [
    "model.save_weights(\"gdrive/My Drive/\"+my_data_dir+\"/outputs/model.h5\")"
   ],
   "outputs": [],
   "metadata": {
    "id": "BzjYyUTtyz0g"
   }
  },
  {
   "cell_type": "markdown",
   "source": [
    "to load the model: "
   ],
   "metadata": {
    "id": "93_2-m32yz0i"
   }
  },
  {
   "cell_type": "code",
   "execution_count": null,
   "source": [
    "model.load_weights(\"gdrive/My Drive/\"+my_data_dir+\"/outputs/model.h5\")"
   ],
   "outputs": [],
   "metadata": {
    "id": "Lq0OwkyTyz0i"
   }
  },
  {
   "cell_type": "markdown",
   "source": [
    "**TODO**: Now we are ready to actually generate image captions using the trained model. Modify the simple greedy decoder you wrote for the text-only generator, so that it takes an encoded image (a vector of length 2048) as input, and returns a sequence."
   ],
   "metadata": {
    "id": "Sjn0ax29yz0j"
   }
  },
  {
   "cell_type": "code",
   "execution_count": null,
   "source": [
    "def image_decoder(enc_image): \r\n",
    "    # ...\r\n",
    "    "
   ],
   "outputs": [],
   "metadata": {
    "id": "NrJrN_SAyz0k"
   }
  },
  {
   "cell_type": "markdown",
   "source": [
    "As a sanity check, you should now be able to reproduce (approximately) captions for the training images. "
   ],
   "metadata": {
    "id": "PmVVHKboyz0l"
   }
  },
  {
   "cell_type": "code",
   "execution_count": null,
   "source": [
    "plt.imshow(get_image(train_list[0]))\r\n",
    "img_decoder(enc_train[0])"
   ],
   "outputs": [],
   "metadata": {
    "id": "4tSMrnrUyz0l"
   }
  },
  {
   "cell_type": "markdown",
   "source": [
    "You should also be able to apply the model to dev images and get reasonable captions:"
   ],
   "metadata": {
    "id": "u7_seL-pyz0n"
   }
  },
  {
   "cell_type": "code",
   "execution_count": null,
   "source": [
    "plt.imshow(get_image(dev_list[1]))\r\n",
    "img_decoder(enc_dev[0])"
   ],
   "outputs": [],
   "metadata": {
    "id": "ykrK4GfOyz0n"
   }
  },
  {
   "cell_type": "markdown",
   "source": [
    "For this assignment we will not perform a formal evaluation. "
   ],
   "metadata": {
    "id": "jvJO6IGryz0o"
   }
  },
  {
   "cell_type": "markdown",
   "source": [
    "Feel free to experiment with the parameters of the model or continue training the model. At some point, the model will overfit and will no longer produce good descriptions for the dev images. "
   ],
   "metadata": {
    "id": "V0MV9ThJyz0o"
   }
  }
 ],
 "metadata": {
  "colab": {
   "collapsed_sections": [
    "ANBPxk5vyzzv",
    "7VIi4th6yzzw",
    "1qVKEyB4yzz3",
    "n4F_P878yz0A",
    "k7vZOvuHyz0H",
    "bZ8sC4Ulyz0K",
    "EuQZreVtyz0O",
    "Vcgd5jZmyz0W"
   ],
   "name": "homework2.ipynb",
   "provenance": []
  },
  "kernelspec": {
   "display_name": "Python 3",
   "language": "python",
   "name": "python3"
  },
  "language_info": {
   "codemirror_mode": {
    "name": "ipython",
    "version": 3
   },
   "file_extension": ".py",
   "mimetype": "text/x-python",
   "name": "python",
   "nbconvert_exporter": "python",
   "pygments_lexer": "ipython3",
   "version": "3.9.1"
  }
 },
 "nbformat": 4,
 "nbformat_minor": 1
}